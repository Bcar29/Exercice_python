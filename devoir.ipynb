{
 "cells": [
  {
   "cell_type": "markdown",
   "metadata": {},
   "source": [
    "### Exo 1"
   ]
  },
  {
   "cell_type": "code",
   "execution_count": 12,
   "metadata": {},
   "outputs": [
    {
     "name": "stdout",
     "output_type": "stream",
     "text": [
      "89\n",
      "144\n"
     ]
    }
   ],
   "source": [
    "def fibo(v):\n",
    "    a = 1\n",
    "    b = 1\n",
    "    while True: \n",
    "        temp = a\n",
    "        a = a + b\n",
    "        b = temp\n",
    "        if a > v:\n",
    "            return a  \n",
    "        \n",
    "print(fibo(75))\n",
    "print(fibo(100))"
   ]
  },
  {
   "cell_type": "markdown",
   "metadata": {},
   "source": [
    "### Exo 2"
   ]
  },
  {
   "cell_type": "markdown",
   "metadata": {},
   "source": [
    "#### Calcule des précipitations totales pour l’année et les précipitations moyennes mensuelles dans chaque ville"
   ]
  },
  {
   "cell_type": "code",
   "execution_count": 37,
   "metadata": {},
   "outputs": [
    {
     "name": "stdout",
     "output_type": "stream",
     "text": [
      "les precipitatons totales et moyennes mensuelles pour la ville de Boston sont respectivement 36.73 et 3.060833333333333\n",
      "les precipitatons totales et moyennes mensuelles pour la ville de Seatle sont respectivement 36.73 et 3.060833333333333\n"
     ]
    }
   ],
   "source": [
    "bos = [2.67, 1.00, 1.21, 3.09, 3.43, 4.71, 3.88, 3.08, 4.10, 2.62, 1.01, 5.93]\n",
    "sea = [6.83, 3.63, 7.20, 2.68, 2.05, 2.96, 1.04, 0.00, 0.03, 6.71, 8.28, 6.85]\n",
    "mois = [\"janvier\", \"fevrier\", \"mars\", \"avril\", \"mai\", \"juin\", \"juillet\", \"aout\", \"septembre\", \"octobre\", \"novembre\", \"decembre\"]\n",
    "bostotal = sum(bos)\n",
    "bosmoy = bostotal/len(bos)\n",
    "seatotal = sum(sea)\n",
    "seamoy = seatotal/len(sea)\n",
    "print(f\"les precipitatons totales et moyennes mensuelles pour la ville de Boston sont respectivement {bostotal} et {bosmoy}\")\n",
    "print(f\"les precipitatons totales et moyennes mensuelles pour la ville de Seatle sont respectivement {bostotal} et {bosmoy}\")"
   ]
  },
  {
   "cell_type": "markdown",
   "metadata": {},
   "source": [
    "#### Le nombre de mois où les précipitations ont été supérieures à la moyenne dans chaque ville \n"
   ]
  },
  {
   "cell_type": "code",
   "execution_count": 38,
   "metadata": {},
   "outputs": [
    {
     "name": "stdout",
     "output_type": "stream",
     "text": [
      "Pour la ville de Boston les precipitations ont été supérieures à la moyenne pendant 7\n",
      "Pour la ville de Seatle les precipitations ont été supérieures à la moyenne pendant 5\n"
     ]
    }
   ],
   "source": [
    "pbos = [i for i in bos if i > bosmoy]\n",
    "psea = [i for i in sea if i > seamoy]\n",
    "print(f\"Pour la ville de Boston les precipitations ont été supérieures à la moyenne pendant {len(pbos)}\")\n",
    "print(f\"Pour la ville de Seatle les precipitations ont été supérieures à la moyenne pendant {len(psea)}\")\n"
   ]
  },
  {
   "cell_type": "markdown",
   "metadata": {},
   "source": [
    "#### Le nombre de  mois, et au cours de quels mois, les précipitations à Boston ont été inférieures à celles de Seattle?"
   ]
  },
  {
   "cell_type": "code",
   "execution_count": 39,
   "metadata": {},
   "outputs": [
    {
     "name": "stdout",
     "output_type": "stream",
     "text": [
      "les precipitations à Boston ont été inférieures à celles de Seattle pendant 6 mois ! les voici : \n",
      "Janvier\n",
      "Fevrier\n",
      "Mars\n",
      "Octobre\n",
      "Novembre\n",
      "Decembre\n"
     ]
    }
   ],
   "source": [
    "ind = []\n",
    "for i,v  in zip(bos, sea):\n",
    "    if i<v:\n",
    "        ind.append(bos.index(i))\n",
    "\n",
    "print(f\"les precipitations à Boston ont été inférieures à celles de Seattle pendant {len(ind)} mois ! les voici : \")\n",
    "for i in ind:\n",
    "    print(mois[i].capitalize())"
   ]
  },
  {
   "cell_type": "markdown",
   "metadata": {},
   "source": [
    "### Exo 3"
   ]
  },
  {
   "cell_type": "markdown",
   "metadata": {},
   "source": [
    "#### importation des bibliothèque necessaire"
   ]
  },
  {
   "cell_type": "code",
   "execution_count": 13,
   "metadata": {},
   "outputs": [],
   "source": [
    "import numpy as np\n",
    "import math as m\n",
    "from scipy.stats import norm"
   ]
  },
  {
   "cell_type": "markdown",
   "metadata": {},
   "source": [
    "#### Calcul du coefficient de correlation "
   ]
  },
  {
   "cell_type": "code",
   "execution_count": 14,
   "metadata": {},
   "outputs": [],
   "source": [
    "def calculer_correlation(X, Y):\n",
    "    return np.corrcoef(X, Y)[0, 1]"
   ]
  },
  {
   "cell_type": "markdown",
   "metadata": {},
   "source": [
    "#### calcul de la statistique z de fisher"
   ]
  },
  {
   "cell_type": "code",
   "execution_count": 15,
   "metadata": {},
   "outputs": [],
   "source": [
    "def calculer_statistique_z(r):\n",
    "    return  0.5*m.log((1+r)/(1-r))"
   ]
  },
  {
   "cell_type": "markdown",
   "metadata": {},
   "source": [
    "#### calcul de la statistique w pour tester l'hypothèse nulle "
   ]
  },
  {
   "cell_type": "code",
   "execution_count": 16,
   "metadata": {},
   "outputs": [],
   "source": [
    "def calculer_statistique_w(z, z0, n):\n",
    "    return (z-z0) / m.sqrt(1 / (n-3))"
   ]
  },
  {
   "cell_type": "markdown",
   "metadata": {},
   "source": [
    "#### calcul de la valeur p du test "
   ]
  },
  {
   "cell_type": "code",
   "execution_count": 17,
   "metadata": {},
   "outputs": [],
   "source": [
    "def calculer_p_valeur(w):\n",
    "    return 2 * (1 - norm.cdf(abs(w)))"
   ]
  },
  {
   "cell_type": "markdown",
   "metadata": {},
   "source": [
    "Teste"
   ]
  },
  {
   "cell_type": "code",
   "execution_count": 40,
   "metadata": {},
   "outputs": [],
   "source": [
    "X= np.array([2.1, 2.5, 3.6, 4.0, 5.1])\n",
    "Y= np.array([8.0, 9.5, 10.5, 12.0, 14.0])\n",
    "rho_0_1 = 0.0\n",
    "rho_0_2 = 0.6\n",
    "n = len(X)"
   ]
  },
  {
   "cell_type": "code",
   "execution_count": 43,
   "metadata": {},
   "outputs": [],
   "source": [
    "r = calculer_correlation(X, Y)\n",
    "z = calculer_statistique_z(r)"
   ]
  },
  {
   "cell_type": "code",
   "execution_count": 45,
   "metadata": {},
   "outputs": [],
   "source": [
    "Z0_1 = calculer_statistique_z(rho_0_1)\n",
    "Z0_2 = calculer_statistique_z(rho_0_2)\n",
    "w_1 = calculer_statistique_w(z, Z0_1, n)\n",
    "w_2 = calculer_statistique_w(z, Z0_2, n)\n",
    "p_1 = calculer_p_valeur(w_1)\n",
    "p_2 = calculer_p_valeur(w_2)"
   ]
  },
  {
   "cell_type": "code",
   "execution_count": null,
   "metadata": {},
   "outputs": [],
   "source": [
    "print(f\"Coefficient de corrélation r : {r}\")\n",
    "print(f\"Statistique z de Fisher: {z}\")\n",
    "print(f\"Test pour p0 = 0: w = {w_1}, p_value = {p_1}\")\n",
    "print(f\"Test pour p0 = 0.6: w = {w_2}, p_value = {p_2}\")"
   ]
  },
  {
   "cell_type": "markdown",
   "metadata": {},
   "source": [
    "Interpretation"
   ]
  },
  {
   "cell_type": "code",
   "execution_count": null,
   "metadata": {},
   "outputs": [],
   "source": [
    "if p_1 < 0.05:\n",
    "    print(\"Pour p0 = 0, la corrélation est significative (p<0.05).\")\n",
    "else:\n",
    "    print(\"Pour p0 = 0, la corrélation n'est pas significative.\")\n",
    "if p_2 < 0.05:\n",
    "    print(\"Pour p0 = 0.6, la corrélation est significative (p< 0.05).\")\n",
    "else:\n",
    "    print(\"Pour p0 = 0.6, la corrélation n'est pas significative.\")"
   ]
  },
  {
   "cell_type": "markdown",
   "metadata": {},
   "source": [
    "### EXO4"
   ]
  },
  {
   "cell_type": "code",
   "execution_count": 48,
   "metadata": {},
   "outputs": [],
   "source": [
    "import numpy as np\n",
    "import matplotlib.pyplot as plt"
   ]
  },
  {
   "cell_type": "markdown",
   "metadata": {},
   "source": [
    "#### Les parametres"
   ]
  },
  {
   "cell_type": "code",
   "execution_count": 49,
   "metadata": {},
   "outputs": [],
   "source": [
    "r = 2\n",
    "a = 0.05\n",
    "beta = 1\n",
    "generations = 30\n",
    "host_pop = [20]\n",
    "parasitoid_pop = [2]"
   ]
  },
  {
   "cell_type": "markdown",
   "metadata": {},
   "source": [
    "#### Les modèles"
   ]
  },
  {
   "cell_type": "code",
   "execution_count": 50,
   "metadata": {},
   "outputs": [],
   "source": [
    "for t in range(generations):\n",
    "    H_next = host_pop[-1] * np.exp(-a * parasitoid_pop[-1]) * r\n",
    "    P_next = host_pop[-1] * (1 - np.exp(-a * parasitoid_pop[-1])) * beta\n",
    "    host_pop.append(H_next)\n",
    "    parasitoid_pop.append(P_next)"
   ]
  },
  {
   "cell_type": "markdown",
   "metadata": {},
   "source": [
    "#### Les Graphes"
   ]
  },
  {
   "cell_type": "code",
   "execution_count": null,
   "metadata": {},
   "outputs": [],
   "source": [
    "time = range(generations + 1)\n",
    "plt.plot(time, host_pop, label=\"Hôtes\")\n",
    "plt.plot(time, parasitoid_pop, label=\"Parasitoïdes\")\n",
    "plt.xlabel(\"Temps (générations)\")\n",
    "plt.ylabel(\"Population\")\n",
    "plt.legend()\n",
    "plt.title(\"Modèle de Nicholson-Bailey\")\n",
    "plt.show()"
   ]
  }
 ],
 "metadata": {
  "kernelspec": {
   "display_name": "Python 3",
   "language": "python",
   "name": "python3"
  },
  "language_info": {
   "codemirror_mode": {
    "name": "ipython",
    "version": 3
   },
   "file_extension": ".py",
   "mimetype": "text/x-python",
   "name": "python",
   "nbconvert_exporter": "python",
   "pygments_lexer": "ipython3",
   "version": "3.13.0"
  }
 },
 "nbformat": 4,
 "nbformat_minor": 2
}
